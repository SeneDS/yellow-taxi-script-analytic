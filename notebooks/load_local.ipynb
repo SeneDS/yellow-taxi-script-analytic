{
 "cells": [
  {
   "cell_type": "code",
   "execution_count": null,
   "id": "5efac588",
   "metadata": {},
   "outputs": [],
   "source": [
    "LOCAL_FOLDER_BQ=\"nyc_taxi_data_bq\"\n",
    "if not os.path.exists(LOCAL_FOLDER_BQ):\n",
    "    os.makedirs(LOCAL_FOLDER_BQ)"
   ]
  },
  {
   "cell_type": "markdown",
   "id": "430f9a27",
   "metadata": {},
   "source": [
    "Creation de la table et de la base de données"
   ]
  },
  {
   "cell_type": "code",
   "execution_count": null,
   "id": "40caa8d5",
   "metadata": {},
   "outputs": [],
   "source": [
    "import sqlite3\n",
    "conn = sqlite3.connect('raw_yellowtrips.db')\n",
    "cur = conn.cursor()\n",
    "cur.execute('''\n",
    "CREATE TABLE IF NOT EXISTS yellow_trips (\n",
    "    VendorID INTEGER,\n",
    "    tpep_pickup_datetime TEXT,\n",
    "    tpep_dropoff_datetime TEXT,\n",
    "    passenger_count REAL,\n",
    "    trip_distance REAL,\n",
    "    RatecodeID REAL,\n",
    "    store_and_fwd_flag TEXT,\n",
    "    PULocationID INTEGER,\n",
    "    DOLocationID INTEGER,\n",
    "    payment_type INTEGER,\n",
    "    fare_amount REAL,\n",
    "    extra REAL,\n",
    "    mta_tax REAL,\n",
    "    tip_amount REAL,\n",
    "    tolls_amount REAL,\n",
    "    improvement_surcharge REAL,\n",
    "    total_amount REAL,\n",
    "    congestion_surcharge REAL,\n",
    "    airport_fee REAL,\n",
    "    source_file TEXT\n",
    ")\n",
    "''')\n",
    "\n",
    "conn.commit()"
   ]
  },
  {
   "cell_type": "markdown",
   "id": "579f7507",
   "metadata": {},
   "source": [
    "Liste des fichiers à integrer dans la table bigquery"
   ]
  },
  {
   "cell_type": "code",
   "execution_count": null,
   "id": "47db6640",
   "metadata": {},
   "outputs": [],
   "source": [
    "fichiers = glob.glob(os.path.join(LOCAL_FOLDER, '*yellow*.parquet'))"
   ]
  },
  {
   "cell_type": "markdown",
   "id": "cc2d52de",
   "metadata": {},
   "source": [
    "Selection des colonnes communes "
   ]
  },
  {
   "cell_type": "code",
   "execution_count": null,
   "id": "6f2e8ba3",
   "metadata": {},
   "outputs": [],
   "source": [
    "ref=pd.read_parquet(\"/content/nyc_taxi_data/yellow_tripdata_2024-01.parquet\")\n",
    "entetesRef=ref.columns"
   ]
  },
  {
   "cell_type": "code",
   "execution_count": null,
   "id": "8ff23c8d",
   "metadata": {},
   "outputs": [],
   "source": [
    "conn = sqlite3.connect('raw_yellowtrips.db')\n",
    "cur = conn.cursor()\n",
    "\n",
    "for fichier in fichiers:\n",
    "    nom_fichier = os.path.basename(fichier)\n",
    "\n",
    "    # Vérifier si le fichier a déjà été inséré\n",
    "    cur.execute('SELECT 1 FROM yellow_trips WHERE source_file = ?', (nom_fichier,))\n",
    "    existe = cur.fetchone()\n",
    "\n",
    "    if not existe:\n",
    "        print(f\"Insertion de {nom_fichier}...\")\n",
    "        df = pd.read_parquet(fichier)\n",
    "        df=df[entetesRef].copy(deep=True)\n",
    "\n",
    "        # Ajouter une colonne source_file\n",
    "        df['source_file'] = nom_fichier\n",
    "\n",
    "        # Insérer dans la base\n",
    "        df.to_sql('yellow_trips', conn, if_exists='append', index=False)\n",
    "    else:\n",
    "        print(f\"{nom_fichier} déjà présent. Ignoré.\")\n",
    "\n",
    "conn.commit()\n",
    "conn.close()"
   ]
  }
 ],
 "metadata": {
  "language_info": {
   "name": "python"
  }
 },
 "nbformat": 4,
 "nbformat_minor": 5
}
