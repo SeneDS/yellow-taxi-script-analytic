{
 "cells": [
  {
   "cell_type": "code",
   "execution_count": null,
   "id": "84c7c5f4",
   "metadata": {},
   "outputs": [],
   "source": []
  },
  {
   "cell_type": "code",
   "execution_count": 1,
   "id": "9209f1c4",
   "metadata": {},
   "outputs": [
    {
     "name": "stdout",
     "output_type": "stream",
     "text": [
      "--2025-06-24 07:33:59--  https://d37ci6vzurychx.cloudfront.net/trip-data/yellow_tripdata_2025-01.parquet\n",
      "Resolving d37ci6vzurychx.cloudfront.net (d37ci6vzurychx.cloudfront.net)... 18.155.128.187, 18.155.128.222, 18.155.128.46, ...\n",
      "Connecting to d37ci6vzurychx.cloudfront.net (d37ci6vzurychx.cloudfront.net)|18.155.128.187|:443... connected.\n",
      "HTTP request sent, awaiting response... 200 OK\n",
      "Length: 59158238 (56M) [binary/octet-stream]\n",
      "Saving to: ‘yellow_tripdata_2025-01.parquet’\n",
      "\n",
      "yellow_tripdata_202 100%[===================>]  56.42M  30.7MB/s    in 1.8s    \n",
      "\n",
      "2025-06-24 07:34:02 (30.7 MB/s) - ‘yellow_tripdata_2025-01.parquet’ saved [59158238/59158238]\n",
      "\n"
     ]
    }
   ],
   "source": [
    "!wget https://d37ci6vzurychx.cloudfront.net/trip-data/yellow_tripdata_2025-01.parquet"
   ]
  },
  {
   "cell_type": "code",
   "execution_count": 3,
   "id": "16607215",
   "metadata": {},
   "outputs": [],
   "source": [
    "import requests\n",
    "import os\n",
    "import time\n",
    "from datetime import datetime"
   ]
  },
  {
   "cell_type": "code",
   "execution_count": 5,
   "id": "d8923f22",
   "metadata": {},
   "outputs": [],
   "source": [
    "LOCAL_FOLDER=\"nyc_taxi_data\"\n",
    "if not os.path.exists(LOCAL_FOLDER):\n",
    "    os.makedirs(LOCAL_FOLDER)"
   ]
  },
  {
   "cell_type": "code",
   "execution_count": 16,
   "id": "6262a986",
   "metadata": {},
   "outputs": [
    {
     "name": "stdout",
     "output_type": "stream",
     "text": [
      "'Custom Model.ipynb'  'Report 4.ipynb'          scraping.ipynb\n",
      "'Report 2.ipynb'      'Report Notebook.ipynb'\n",
      "'Report 3.ipynb'       \u001b[0m\u001b[01;34mnyc_taxi_data\u001b[0m/\n"
     ]
    }
   ],
   "source": [
    "ls"
   ]
  },
  {
   "cell_type": "code",
   "execution_count": 6,
   "id": "3a609345",
   "metadata": {},
   "outputs": [
    {
     "data": {
      "text/plain": [
       "2025"
      ]
     },
     "execution_count": 6,
     "metadata": {},
     "output_type": "execute_result"
    }
   ],
   "source": [
    "current_year=datetime.now().year\n",
    "current_year"
   ]
  },
  {
   "cell_type": "code",
   "execution_count": null,
   "id": "c04131cc",
   "metadata": {},
   "outputs": [
    {
     "name": "stdout",
     "output_type": "stream",
     "text": [
      "📥 Téléchargement de yellow_tripdata_2024-01.parquet...\n",
      "✅ yellow_tripdata_2024-01.parquet téléchargé avec succès !\n",
      "📥 Téléchargement de yellow_tripdata_2024-02.parquet...\n",
      "✅ yellow_tripdata_2024-02.parquet téléchargé avec succès !\n",
      "📥 Téléchargement de yellow_tripdata_2024-03.parquet...\n",
      "✅ yellow_tripdata_2024-03.parquet téléchargé avec succès !\n",
      "📥 Téléchargement de yellow_tripdata_2024-04.parquet...\n",
      "✅ yellow_tripdata_2024-04.parquet téléchargé avec succès !\n",
      "📥 Téléchargement de yellow_tripdata_2024-05.parquet...\n",
      "✅ yellow_tripdata_2024-05.parquet téléchargé avec succès !\n",
      "📥 Téléchargement de yellow_tripdata_2024-06.parquet...\n",
      "✅ yellow_tripdata_2024-06.parquet téléchargé avec succès !\n",
      "📥 Téléchargement de yellow_tripdata_2024-07.parquet...\n",
      "✅ yellow_tripdata_2024-07.parquet téléchargé avec succès !\n",
      "📥 Téléchargement de yellow_tripdata_2024-08.parquet...\n",
      "✅ yellow_tripdata_2024-08.parquet téléchargé avec succès !\n",
      "📥 Téléchargement de yellow_tripdata_2024-09.parquet...\n",
      "✅ yellow_tripdata_2024-09.parquet téléchargé avec succès !\n",
      "📥 Téléchargement de yellow_tripdata_2024-10.parquet...\n",
      "✅ yellow_tripdata_2024-10.parquet téléchargé avec succès !\n",
      "📥 Téléchargement de yellow_tripdata_2024-11.parquet...\n",
      "✅ yellow_tripdata_2024-11.parquet téléchargé avec succès !\n",
      "📥 Téléchargement de yellow_tripdata_2024-12.parquet...\n",
      "✅ yellow_tripdata_2024-12.parquet téléchargé avec succès !\n",
      "📥 Téléchargement de yellow_tripdata_2025-01.parquet...\n",
      "✅ yellow_tripdata_2025-01.parquet téléchargé avec succès !\n",
      "📥 Téléchargement de yellow_tripdata_2025-02.parquet...\n",
      "✅ yellow_tripdata_2025-02.parquet téléchargé avec succès !\n",
      "📥 Téléchargement de yellow_tripdata_2025-03.parquet...\n",
      "✅ yellow_tripdata_2025-03.parquet téléchargé avec succès !\n",
      "📥 Téléchargement de yellow_tripdata_2025-04.parquet...\n",
      "❌ Erreur 403 : yellow_tripdata_2025-04.parquet non téléchargé.\n",
      "📥 Téléchargement de yellow_tripdata_2025-05.parquet...\n",
      "❌ Erreur 403 : yellow_tripdata_2025-05.parquet non téléchargé.\n",
      "📥 Téléchargement de yellow_tripdata_2025-06.parquet...\n",
      "❌ Erreur 403 : yellow_tripdata_2025-06.parquet non téléchargé.\n",
      "📥 Téléchargement de yellow_tripdata_2025-07.parquet...\n",
      "❌ Erreur 403 : yellow_tripdata_2025-07.parquet non téléchargé.\n",
      "📥 Téléchargement de yellow_tripdata_2025-08.parquet...\n",
      "❌ Erreur 403 : yellow_tripdata_2025-08.parquet non téléchargé.\n",
      "📥 Téléchargement de yellow_tripdata_2025-09.parquet...\n",
      "❌ Erreur 403 : yellow_tripdata_2025-09.parquet non téléchargé.\n",
      "📥 Téléchargement de yellow_tripdata_2025-10.parquet...\n",
      "❌ Erreur 403 : yellow_tripdata_2025-10.parquet non téléchargé.\n",
      "📥 Téléchargement de yellow_tripdata_2025-11.parquet...\n",
      "❌ Erreur 403 : yellow_tripdata_2025-11.parquet non téléchargé.\n",
      "📥 Téléchargement de yellow_tripdata_2025-12.parquet...\n",
      "❌ Erreur 403 : yellow_tripdata_2025-12.parquet non téléchargé.\n"
     ]
    }
   ],
   "source": [
    "for year in range(2024, current_year + 1):\n",
    "    for month in range(1, 13):\n",
    "        file_name = f\"yellow_tripdata_{year}-{month:02d}.parquet\"\n",
    "        file_path = os.path.join(LOCAL_FOLDER, file_name)\n",
    "        download_url = f\"https://d37ci6vzurychx.cloudfront.net/trip-data/{file_name}\"\n",
    "        print(f\"📥 Téléchargement de {file_name}...\")\n",
    "\n",
    "        response = requests.get(download_url)\n",
    "        if response.status_code == 200:\n",
    "            with open(file_path, \"wb\") as file:\n",
    "                file.write(response.content)\n",
    "            print(f\"✅ {file_name} téléchargé avec succès !\")\n",
    "        else:\n",
    "            print(f\"❌ Erreur {response.status_code} : {file_name} non téléchargé.\")"
   ]
  },
  {
   "cell_type": "code",
   "execution_count": null,
   "id": "54fae171",
   "metadata": {},
   "outputs": [],
   "source": []
  },
  {
   "cell_type": "code",
   "execution_count": 31,
   "id": "244ceef7",
   "metadata": {},
   "outputs": [
    {
     "data": {
      "text/html": [
       "<div>\n",
       "<style scoped>\n",
       "    .dataframe tbody tr th:only-of-type {\n",
       "        vertical-align: middle;\n",
       "    }\n",
       "\n",
       "    .dataframe tbody tr th {\n",
       "        vertical-align: top;\n",
       "    }\n",
       "\n",
       "    .dataframe thead th {\n",
       "        text-align: right;\n",
       "    }\n",
       "</style>\n",
       "<table border=\"1\" class=\"dataframe\">\n",
       "  <thead>\n",
       "    <tr style=\"text-align: right;\">\n",
       "      <th></th>\n",
       "      <th>VendorID</th>\n",
       "      <th>tpep_pickup_datetime</th>\n",
       "      <th>tpep_dropoff_datetime</th>\n",
       "      <th>passenger_count</th>\n",
       "      <th>trip_distance</th>\n",
       "      <th>RatecodeID</th>\n",
       "      <th>store_and_fwd_flag</th>\n",
       "      <th>PULocationID</th>\n",
       "      <th>DOLocationID</th>\n",
       "      <th>payment_type</th>\n",
       "      <th>fare_amount</th>\n",
       "      <th>extra</th>\n",
       "      <th>mta_tax</th>\n",
       "      <th>tip_amount</th>\n",
       "      <th>tolls_amount</th>\n",
       "      <th>improvement_surcharge</th>\n",
       "      <th>total_amount</th>\n",
       "      <th>congestion_surcharge</th>\n",
       "      <th>Airport_fee</th>\n",
       "    </tr>\n",
       "  </thead>\n",
       "  <tbody>\n",
       "    <tr>\n",
       "      <th>0</th>\n",
       "      <td>2</td>\n",
       "      <td>2024-01-01 00:57:55</td>\n",
       "      <td>2024-01-01 01:17:43</td>\n",
       "      <td>1.0</td>\n",
       "      <td>1.72</td>\n",
       "      <td>1.0</td>\n",
       "      <td>N</td>\n",
       "      <td>186</td>\n",
       "      <td>79</td>\n",
       "      <td>2</td>\n",
       "      <td>17.7</td>\n",
       "      <td>1.0</td>\n",
       "      <td>0.5</td>\n",
       "      <td>0.00</td>\n",
       "      <td>0.0</td>\n",
       "      <td>1.0</td>\n",
       "      <td>22.70</td>\n",
       "      <td>2.5</td>\n",
       "      <td>0.0</td>\n",
       "    </tr>\n",
       "    <tr>\n",
       "      <th>1</th>\n",
       "      <td>1</td>\n",
       "      <td>2024-01-01 00:03:00</td>\n",
       "      <td>2024-01-01 00:09:36</td>\n",
       "      <td>1.0</td>\n",
       "      <td>1.80</td>\n",
       "      <td>1.0</td>\n",
       "      <td>N</td>\n",
       "      <td>140</td>\n",
       "      <td>236</td>\n",
       "      <td>1</td>\n",
       "      <td>10.0</td>\n",
       "      <td>3.5</td>\n",
       "      <td>0.5</td>\n",
       "      <td>3.75</td>\n",
       "      <td>0.0</td>\n",
       "      <td>1.0</td>\n",
       "      <td>18.75</td>\n",
       "      <td>2.5</td>\n",
       "      <td>0.0</td>\n",
       "    </tr>\n",
       "    <tr>\n",
       "      <th>2</th>\n",
       "      <td>1</td>\n",
       "      <td>2024-01-01 00:17:06</td>\n",
       "      <td>2024-01-01 00:35:01</td>\n",
       "      <td>1.0</td>\n",
       "      <td>4.70</td>\n",
       "      <td>1.0</td>\n",
       "      <td>N</td>\n",
       "      <td>236</td>\n",
       "      <td>79</td>\n",
       "      <td>1</td>\n",
       "      <td>23.3</td>\n",
       "      <td>3.5</td>\n",
       "      <td>0.5</td>\n",
       "      <td>3.00</td>\n",
       "      <td>0.0</td>\n",
       "      <td>1.0</td>\n",
       "      <td>31.30</td>\n",
       "      <td>2.5</td>\n",
       "      <td>0.0</td>\n",
       "    </tr>\n",
       "    <tr>\n",
       "      <th>3</th>\n",
       "      <td>1</td>\n",
       "      <td>2024-01-01 00:36:38</td>\n",
       "      <td>2024-01-01 00:44:56</td>\n",
       "      <td>1.0</td>\n",
       "      <td>1.40</td>\n",
       "      <td>1.0</td>\n",
       "      <td>N</td>\n",
       "      <td>79</td>\n",
       "      <td>211</td>\n",
       "      <td>1</td>\n",
       "      <td>10.0</td>\n",
       "      <td>3.5</td>\n",
       "      <td>0.5</td>\n",
       "      <td>2.00</td>\n",
       "      <td>0.0</td>\n",
       "      <td>1.0</td>\n",
       "      <td>17.00</td>\n",
       "      <td>2.5</td>\n",
       "      <td>0.0</td>\n",
       "    </tr>\n",
       "    <tr>\n",
       "      <th>4</th>\n",
       "      <td>1</td>\n",
       "      <td>2024-01-01 00:46:51</td>\n",
       "      <td>2024-01-01 00:52:57</td>\n",
       "      <td>1.0</td>\n",
       "      <td>0.80</td>\n",
       "      <td>1.0</td>\n",
       "      <td>N</td>\n",
       "      <td>211</td>\n",
       "      <td>148</td>\n",
       "      <td>1</td>\n",
       "      <td>7.9</td>\n",
       "      <td>3.5</td>\n",
       "      <td>0.5</td>\n",
       "      <td>3.20</td>\n",
       "      <td>0.0</td>\n",
       "      <td>1.0</td>\n",
       "      <td>16.10</td>\n",
       "      <td>2.5</td>\n",
       "      <td>0.0</td>\n",
       "    </tr>\n",
       "  </tbody>\n",
       "</table>\n",
       "</div>"
      ],
      "text/plain": [
       "   VendorID tpep_pickup_datetime tpep_dropoff_datetime  passenger_count  \\\n",
       "0         2  2024-01-01 00:57:55   2024-01-01 01:17:43              1.0   \n",
       "1         1  2024-01-01 00:03:00   2024-01-01 00:09:36              1.0   \n",
       "2         1  2024-01-01 00:17:06   2024-01-01 00:35:01              1.0   \n",
       "3         1  2024-01-01 00:36:38   2024-01-01 00:44:56              1.0   \n",
       "4         1  2024-01-01 00:46:51   2024-01-01 00:52:57              1.0   \n",
       "\n",
       "   trip_distance  RatecodeID store_and_fwd_flag  PULocationID  DOLocationID  \\\n",
       "0           1.72         1.0                  N           186            79   \n",
       "1           1.80         1.0                  N           140           236   \n",
       "2           4.70         1.0                  N           236            79   \n",
       "3           1.40         1.0                  N            79           211   \n",
       "4           0.80         1.0                  N           211           148   \n",
       "\n",
       "   payment_type  fare_amount  extra  mta_tax  tip_amount  tolls_amount  \\\n",
       "0             2         17.7    1.0      0.5        0.00           0.0   \n",
       "1             1         10.0    3.5      0.5        3.75           0.0   \n",
       "2             1         23.3    3.5      0.5        3.00           0.0   \n",
       "3             1         10.0    3.5      0.5        2.00           0.0   \n",
       "4             1          7.9    3.5      0.5        3.20           0.0   \n",
       "\n",
       "   improvement_surcharge  total_amount  congestion_surcharge  Airport_fee  \n",
       "0                    1.0         22.70                   2.5          0.0  \n",
       "1                    1.0         18.75                   2.5          0.0  \n",
       "2                    1.0         31.30                   2.5          0.0  \n",
       "3                    1.0         17.00                   2.5          0.0  \n",
       "4                    1.0         16.10                   2.5          0.0  "
      ]
     },
     "execution_count": 31,
     "metadata": {},
     "output_type": "execute_result"
    }
   ],
   "source": [
    "import pandas as pd\n",
    "pd.read_parquet(\"/home/etiennesene_ds/nyc-yellow-taxi-trips/notebooks/nyc_taxi_data/yellow_tripdata_2024-01.parquet\").head()"
   ]
  },
  {
   "cell_type": "code",
   "execution_count": 20,
   "id": "62dc217a",
   "metadata": {},
   "outputs": [
    {
     "name": "stdout",
     "output_type": "stream",
     "text": [
      "Taille du fichier : 111 octets\n"
     ]
    }
   ],
   "source": [
    "file_path = \"./nyc_taxi_data/yellow_trip_data_2024-04.parquet\"\n",
    "print(\"Taille du fichier :\", os.path.getsize(file_path), \"octets\")"
   ]
  },
  {
   "cell_type": "code",
   "execution_count": 22,
   "id": "ee1907fa",
   "metadata": {},
   "outputs": [
    {
     "name": "stdout",
     "output_type": "stream",
     "text": [
      "Premiers octets : b'<?xml ve'\n"
     ]
    }
   ],
   "source": [
    "with open(file_path, \"rb\") as f:\n",
    "    print(\"Premiers octets :\", f.read(8))"
   ]
  },
  {
   "cell_type": "code",
   "execution_count": null,
   "id": "24e500e1",
   "metadata": {},
   "outputs": [],
   "source": []
  }
 ],
 "metadata": {
  "kernelspec": {
   "display_name": "venv",
   "language": "python",
   "name": "python3"
  },
  "language_info": {
   "codemirror_mode": {
    "name": "ipython",
    "version": 3
   },
   "file_extension": ".py",
   "mimetype": "text/x-python",
   "name": "python",
   "nbconvert_exporter": "python",
   "pygments_lexer": "ipython3",
   "version": "3.12.3"
  }
 },
 "nbformat": 4,
 "nbformat_minor": 5
}
